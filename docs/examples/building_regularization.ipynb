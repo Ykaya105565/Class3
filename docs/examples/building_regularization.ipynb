{
  "cells": [
    {
      "cell_type": "markdown",
      "metadata": {
        "id": "BbuIaZ0wtWSb"
      },
      "source": [
        "# Building Regularization\n",
        "\n",
        "[![image](https://colab.research.google.com/assets/colab-badge.svg)](https://colab.research.google.com/github/opengeos/geoai/blob/main/docs/examples/building_regularization.ipynb)\n",
        "\n",
        "## Install package\n",
        "To use the `geoai-py` package, ensure it is installed in your environment. Uncomment the command below if needed."
      ]
    },
    {
      "cell_type": "code",
      "execution_count": 1,
      "metadata": {
        "id": "Qb9EY90atWSd"
      },
      "outputs": [],
      "source": [
        "# %pip install geoai-py"
      ]
    },
    {
      "cell_type": "markdown",
      "metadata": {
        "id": "SfMl7AdAtWSe"
      },
      "source": [
        "## Import package"
      ]
    },
    {
      "cell_type": "code",
      "execution_count": 2,
      "metadata": {
        "id": "ml0OGD7itWSe",
        "outputId": "73f535c7-857c-4192-afba-83bf703b7063",
        "colab": {
          "base_uri": "https://localhost:8080/",
          "height": 314
        }
      },
      "outputs": [
        {
          "output_type": "error",
          "ename": "ModuleNotFoundError",
          "evalue": "No module named 'geoai'",
          "traceback": [
            "\u001b[0;31m---------------------------------------------------------------------------\u001b[0m",
            "\u001b[0;31mModuleNotFoundError\u001b[0m                       Traceback (most recent call last)",
            "\u001b[0;32m<ipython-input-2-76862300>\u001b[0m in \u001b[0;36m<cell line: 0>\u001b[0;34m()\u001b[0m\n\u001b[0;32m----> 1\u001b[0;31m \u001b[0;32mimport\u001b[0m \u001b[0mgeoai\u001b[0m\u001b[0;34m\u001b[0m\u001b[0;34m\u001b[0m\u001b[0m\n\u001b[0m",
            "\u001b[0;31mModuleNotFoundError\u001b[0m: No module named 'geoai'",
            "",
            "\u001b[0;31m---------------------------------------------------------------------------\u001b[0;32m\nNOTE: If your import is failing due to a missing package, you can\nmanually install dependencies using either !pip or !apt.\n\nTo view examples of installing some common dependencies, click the\n\"Open Examples\" button below.\n\u001b[0;31m---------------------------------------------------------------------------\u001b[0m\n"
          ],
          "errorDetails": {
            "actions": [
              {
                "action": "open_url",
                "actionText": "Open Examples",
                "url": "/notebooks/snippets/importing_libraries.ipynb"
              }
            ]
          }
        }
      ],
      "source": [
        "import geoai"
      ]
    },
    {
      "cell_type": "markdown",
      "metadata": {
        "id": "EnUoChfFtWSe"
      },
      "source": [
        "## Download sample data"
      ]
    },
    {
      "cell_type": "code",
      "execution_count": null,
      "metadata": {
        "id": "I7y2nWH6tWSf"
      },
      "outputs": [],
      "source": [
        "naip_url = (\n",
        "    \"https://huggingface.co/datasets/giswqs/geospatial/resolve/main/naip_train.tif\"\n",
        ")\n",
        "masks_url = \"https://huggingface.co/datasets/giswqs/geospatial/resolve/main/naip_building_masks.tif\""
      ]
    },
    {
      "cell_type": "code",
      "execution_count": null,
      "metadata": {
        "id": "vlNX7liutWSf"
      },
      "outputs": [],
      "source": [
        "masks_path = geoai.download_file(masks_url)\n",
        "naip_path = geoai.download_file(naip_url)"
      ]
    },
    {
      "cell_type": "code",
      "execution_count": null,
      "metadata": {
        "id": "XmcbvQfotWSf"
      },
      "outputs": [],
      "source": [
        "geoai.view_image(masks_path, figsize=(18, 10))"
      ]
    },
    {
      "cell_type": "code",
      "execution_count": null,
      "metadata": {
        "id": "Yb7D0c7_tWSf"
      },
      "outputs": [],
      "source": [
        "geoai.create_split_map(\n",
        "    left_layer=masks_url,\n",
        "    right_layer=naip_url,\n",
        "    left_label=\"Building Masks\",\n",
        "    right_label=\"NAIP Imagery\",\n",
        "    left_args={\n",
        "        \"colormap\": {\"255\": \"#0000ff\"},\n",
        "        \"opacity\": 0.5,\n",
        "    },\n",
        "    basemap=naip_url,\n",
        ")"
      ]
    },
    {
      "cell_type": "markdown",
      "metadata": {
        "id": "bYSTnGl1tWSf"
      },
      "source": [
        "## Convert raster to vector"
      ]
    },
    {
      "cell_type": "code",
      "execution_count": null,
      "metadata": {
        "id": "_5tXDDHhtWSg"
      },
      "outputs": [],
      "source": [
        "gdf = geoai.raster_to_vector(masks_path, output_path=\"naip_building_masks.geojson\")"
      ]
    },
    {
      "cell_type": "code",
      "execution_count": null,
      "metadata": {
        "id": "40loxK7ntWSg"
      },
      "outputs": [],
      "source": [
        "geoai.view_vector_interactive(\n",
        "    gdf, style_kwds={\"color\": \"blue\", \"fillOpacity\": 0.4}, tiles=naip_url\n",
        ")"
      ]
    },
    {
      "cell_type": "code",
      "execution_count": null,
      "metadata": {
        "id": "9WghSYkJtWSg"
      },
      "outputs": [],
      "source": [
        "geoai.create_split_map(\n",
        "    left_layer=gdf,\n",
        "    right_layer=naip_url,\n",
        "    left_label=\"Buildings\",\n",
        "    right_label=\"NAIP Imagery\",\n",
        "    left_args={\"style\": {\"color\": \"blue\"}, \"fillOpacity\": 0.4},\n",
        "    basemap=naip_url,\n",
        ")"
      ]
    },
    {
      "cell_type": "markdown",
      "metadata": {
        "id": "rJWX-lOptWSg"
      },
      "source": [
        "## Building regularization"
      ]
    },
    {
      "cell_type": "code",
      "execution_count": null,
      "metadata": {
        "id": "Tzu0g-ChtWSg"
      },
      "outputs": [],
      "source": [
        "gdf_regularized = geoai.regularization(\n",
        "    building_polygons=gdf,\n",
        "    angle_tolerance=10,\n",
        "    simplify_tolerance=0.5,\n",
        "    orthogonalize=True,\n",
        "    preserve_topology=True,\n",
        ")"
      ]
    },
    {
      "cell_type": "code",
      "execution_count": null,
      "metadata": {
        "id": "lQLJaXOjtWSg"
      },
      "outputs": [],
      "source": [
        "geoai.view_vector_interactive(\n",
        "    gdf_regularized, style_kwds={\"color\": \"red\", \"fillOpacity\": 0.4}, tiles=naip_url\n",
        ")"
      ]
    },
    {
      "cell_type": "code",
      "execution_count": null,
      "metadata": {
        "id": "B1ub9l-3tWSg"
      },
      "outputs": [],
      "source": [
        "geoai.create_split_map(\n",
        "    left_layer=gdf_regularized,\n",
        "    right_layer=naip_url,\n",
        "    left_label=\"Regularized Buildings\",\n",
        "    right_label=\"NAIP Imagery\",\n",
        "    left_args={\"style\": {\"color\": \"red\"}, \"fillOpacity\": 0.4},\n",
        "    basemap=naip_url,\n",
        ")"
      ]
    },
    {
      "cell_type": "markdown",
      "metadata": {
        "id": "X5YX7hPltWSg"
      },
      "source": [
        "## Hybrid regularization"
      ]
    },
    {
      "cell_type": "code",
      "execution_count": null,
      "metadata": {
        "id": "fa93WDuGtWSg"
      },
      "outputs": [],
      "source": [
        "gdf_hybrid = geoai.hybrid_regularization(gdf)"
      ]
    },
    {
      "cell_type": "code",
      "execution_count": null,
      "metadata": {
        "id": "3BfgOCvJtWSg"
      },
      "outputs": [],
      "source": [
        "geoai.view_vector_interactive(\n",
        "    gdf_hybrid, style_kwds={\"color\": \"green\", \"fillOpacity\": 0.4}, tiles=naip_url\n",
        ")"
      ]
    },
    {
      "cell_type": "code",
      "execution_count": null,
      "metadata": {
        "id": "6-iIeDo0tWSg"
      },
      "outputs": [],
      "source": [
        "geoai.create_split_map(\n",
        "    left_layer=gdf_regularized,\n",
        "    right_layer=naip_url,\n",
        "    left_label=\"Regularized Buildings\",\n",
        "    right_label=\"NAIP Imagery\",\n",
        "    left_args={\"style\": {\"color\": \"green\", \"fillOpacity\": 0.4}},\n",
        "    basemap=naip_url,\n",
        ")"
      ]
    },
    {
      "cell_type": "markdown",
      "metadata": {
        "id": "hUd17a0_tWSg"
      },
      "source": [
        "## Adaptive regularization"
      ]
    },
    {
      "cell_type": "code",
      "execution_count": null,
      "metadata": {
        "id": "mNVejKVTtWSg"
      },
      "outputs": [],
      "source": [
        "gdf_adaptive = geoai.adaptive_regularization(\n",
        "    building_polygons=gdf,\n",
        "    simplify_tolerance=0.5,\n",
        "    area_threshold=0.9,\n",
        "    preserve_shape=True,\n",
        ")"
      ]
    },
    {
      "cell_type": "code",
      "execution_count": null,
      "metadata": {
        "id": "3qJO19_AtWSg"
      },
      "outputs": [],
      "source": [
        "geoai.view_vector_interactive(\n",
        "    gdf_adaptive, style_kwds={\"color\": \"yellow\", \"fillOpacity\": 0.4}, tiles=naip_url\n",
        ")"
      ]
    },
    {
      "cell_type": "code",
      "execution_count": null,
      "metadata": {
        "id": "MZXamMr3tWSh"
      },
      "outputs": [],
      "source": [
        "geoai.create_split_map(\n",
        "    left_layer=gdf_adaptive,\n",
        "    right_layer=naip_url,\n",
        "    left_label=\"Adaptive Regularization Buildings\",\n",
        "    right_label=\"NAIP Imagery\",\n",
        "    left_args={\"style\": {\"color\": \"yellow\", \"fillOpacity\": 0.4}},\n",
        "    basemap=naip_url,\n",
        ")"
      ]
    },
    {
      "cell_type": "markdown",
      "metadata": {
        "id": "n0MpiaZgtWSh"
      },
      "source": [
        "## Compare regularization methods"
      ]
    },
    {
      "cell_type": "code",
      "execution_count": null,
      "metadata": {
        "id": "JO_J7KuQtWSh"
      },
      "outputs": [],
      "source": [
        "import leafmap.foliumap as leafmap"
      ]
    },
    {
      "cell_type": "code",
      "execution_count": null,
      "metadata": {
        "id": "x2XY9RC2tWSh"
      },
      "outputs": [],
      "source": [
        "m = leafmap.Map()\n",
        "m.add_basemap(\"SATELLITE\")\n",
        "m.add_gdf(gdf, layer_name=\"Original\")\n",
        "m.add_gdf(\n",
        "    gdf_regularized, style={\"color\": \"red\", \"fillOpacity\": 0}, layer_name=\"Regularized\"\n",
        ")\n",
        "m.add_gdf(gdf_hybrid, style={\"color\": \"green\", \"fillOpacity\": 0}, layer_name=\"Hybrid\")\n",
        "m.add_gdf(\n",
        "    gdf_adaptive, style={\"color\": \"yellow\", \"fillOpacity\": 0}, layer_name=\"Adaptive\"\n",
        ")\n",
        "legend = {\n",
        "    \"Original\": \"blue\",\n",
        "    \"Regularized\": \"red\",\n",
        "    \"Hybrid\": \"green\",\n",
        "    \"Adaptive\": \"yellow\",\n",
        "}\n",
        "m.add_legend(title=\"Building Footprints\", legend_dict=legend)\n",
        "m"
      ]
    }
  ],
  "metadata": {
    "kernelspec": {
      "display_name": "geo",
      "language": "python",
      "name": "python3"
    },
    "language_info": {
      "codemirror_mode": {
        "name": "ipython",
        "version": 3
      },
      "file_extension": ".py",
      "mimetype": "text/x-python",
      "name": "python",
      "nbconvert_exporter": "python",
      "pygments_lexer": "ipython3",
      "version": "3.12.2"
    },
    "colab": {
      "provenance": []
    }
  },
  "nbformat": 4,
  "nbformat_minor": 0
}