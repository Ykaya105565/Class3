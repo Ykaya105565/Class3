{
  "cells": [
    {
      "cell_type": "markdown",
      "metadata": {
        "id": "lV-f8jv19orh"
      },
      "source": [
        "# Building Regularization\n",
        "\n",
        "[![image](https://colab.research.google.com/assets/colab-badge.svg)](https://colab.research.google.com/github/opengeos/geoai/blob/main/docs/examples/building_regularization.ipynb)\n",
        "\n",
        "## Install package\n",
        "To use the `geoai-py` package, ensure it is installed in your environment. Uncomment the command below if needed."
      ]
    },
    {
      "cell_type": "code",
      "execution_count": 1,
      "metadata": {
        "id": "KHvx8sAX9orl"
      },
      "outputs": [],
      "source": [
        "# %pip install geoai-py"
      ]
    },
    {
      "cell_type": "markdown",
      "metadata": {
        "id": "q7_SOeJi9oro"
      },
      "source": [
        "## Import package"
      ]
    },
    {
      "cell_type": "code",
      "execution_count": 3,
      "metadata": {
        "colab": {
          "base_uri": "https://localhost:8080/",
          "height": 314
        },
        "id": "GgxgoE3l9oro",
        "outputId": "fddeab23-fff5-46f7-c6e1-ffded90b7d90"
      },
      "outputs": [
        {
          "output_type": "error",
          "ename": "ModuleNotFoundError",
          "evalue": "No module named 'geoai'",
          "traceback": [
            "\u001b[0;31m---------------------------------------------------------------------------\u001b[0m",
            "\u001b[0;31mModuleNotFoundError\u001b[0m                       Traceback (most recent call last)",
            "\u001b[0;32m/tmp/ipython-input-3-76862300.py\u001b[0m in \u001b[0;36m<cell line: 0>\u001b[0;34m()\u001b[0m\n\u001b[0;32m----> 1\u001b[0;31m \u001b[0;32mimport\u001b[0m \u001b[0mgeoai\u001b[0m\u001b[0;34m\u001b[0m\u001b[0;34m\u001b[0m\u001b[0m\n\u001b[0m",
            "\u001b[0;31mModuleNotFoundError\u001b[0m: No module named 'geoai'",
            "",
            "\u001b[0;31m---------------------------------------------------------------------------\u001b[0;32m\nNOTE: If your import is failing due to a missing package, you can\nmanually install dependencies using either !pip or !apt.\n\nTo view examples of installing some common dependencies, click the\n\"Open Examples\" button below.\n\u001b[0;31m---------------------------------------------------------------------------\u001b[0m\n"
          ],
          "errorDetails": {
            "actions": [
              {
                "action": "open_url",
                "actionText": "Open Examples",
                "url": "/notebooks/snippets/importing_libraries.ipynb"
              }
            ]
          }
        }
      ],
      "source": [
        "import geoai"
      ]
    },
    {
      "cell_type": "markdown",
      "metadata": {
        "id": "OjRqh9bB9orp"
      },
      "source": [
        "## Download sample data"
      ]
    },
    {
      "cell_type": "code",
      "execution_count": null,
      "metadata": {
        "id": "y3Bs0Vbi9orp"
      },
      "outputs": [],
      "source": [
        "naip_url = (\n",
        "    \"https://huggingface.co/datasets/giswqs/geospatial/resolve/main/naip_train.tif\"\n",
        ")\n",
        "masks_url = \"https://huggingface.co/datasets/giswqs/geospatial/resolve/main/naip_building_masks.tif\""
      ]
    },
    {
      "cell_type": "code",
      "execution_count": null,
      "metadata": {
        "id": "wgW2T2SC9orq"
      },
      "outputs": [],
      "source": [
        "masks_path = geoai.download_file(masks_url)\n",
        "naip_path = geoai.download_file(naip_url)"
      ]
    },
    {
      "cell_type": "code",
      "execution_count": null,
      "metadata": {
        "id": "dWAw3Nbh9orq"
      },
      "outputs": [],
      "source": [
        "geoai.view_image(masks_path, figsize=(18, 10))"
      ]
    },
    {
      "cell_type": "code",
      "execution_count": null,
      "metadata": {
        "id": "fXgxqdei9orr"
      },
      "outputs": [],
      "source": [
        "geoai.create_split_map(\n",
        "    left_layer=masks_url,\n",
        "    right_layer=naip_url,\n",
        "    left_label=\"Building Masks\",\n",
        "    right_label=\"NAIP Imagery\",\n",
        "    left_args={\n",
        "        \"colormap\": {\"255\": \"#0000ff\"},\n",
        "        \"opacity\": 0.5,\n",
        "    },\n",
        "    basemap=naip_url,\n",
        ")"
      ]
    },
    {
      "cell_type": "markdown",
      "metadata": {
        "id": "yiSK4MNE9orr"
      },
      "source": [
        "## Convert raster to vector"
      ]
    },
    {
      "cell_type": "code",
      "execution_count": null,
      "metadata": {
        "id": "Mf4tGVge9ors"
      },
      "outputs": [],
      "source": [
        "gdf = geoai.raster_to_vector(masks_path, output_path=\"naip_building_masks.geojson\")"
      ]
    },
    {
      "cell_type": "code",
      "execution_count": null,
      "metadata": {
        "id": "Y6Hpcuhy9ors"
      },
      "outputs": [],
      "source": [
        "geoai.view_vector_interactive(\n",
        "    gdf, style_kwds={\"color\": \"blue\", \"fillOpacity\": 0.4}, tiles=naip_url\n",
        ")"
      ]
    },
    {
      "cell_type": "code",
      "execution_count": null,
      "metadata": {
        "id": "q-aKTF3T9ors"
      },
      "outputs": [],
      "source": [
        "geoai.create_split_map(\n",
        "    left_layer=gdf,\n",
        "    right_layer=naip_url,\n",
        "    left_label=\"Buildings\",\n",
        "    right_label=\"NAIP Imagery\",\n",
        "    left_args={\"style\": {\"color\": \"blue\"}, \"fillOpacity\": 0.4},\n",
        "    basemap=naip_url,\n",
        ")"
      ]
    },
    {
      "cell_type": "markdown",
      "metadata": {
        "id": "35MkPqYT9ort"
      },
      "source": [
        "## Building regularization"
      ]
    },
    {
      "cell_type": "code",
      "execution_count": null,
      "metadata": {
        "id": "U8dBhG6v9ort"
      },
      "outputs": [],
      "source": [
        "gdf_regularized = geoai.regularization(\n",
        "    building_polygons=gdf,\n",
        "    angle_tolerance=10,\n",
        "    simplify_tolerance=0.5,\n",
        "    orthogonalize=True,\n",
        "    preserve_topology=True,\n",
        ")"
      ]
    },
    {
      "cell_type": "code",
      "execution_count": null,
      "metadata": {
        "id": "k-ZdjWu39ort"
      },
      "outputs": [],
      "source": [
        "geoai.view_vector_interactive(\n",
        "    gdf_regularized, style_kwds={\"color\": \"red\", \"fillOpacity\": 0.4}, tiles=naip_url\n",
        ")"
      ]
    },
    {
      "cell_type": "code",
      "execution_count": null,
      "metadata": {
        "id": "0ZfHJ6mo9ort"
      },
      "outputs": [],
      "source": [
        "geoai.create_split_map(\n",
        "    left_layer=gdf_regularized,\n",
        "    right_layer=naip_url,\n",
        "    left_label=\"Regularized Buildings\",\n",
        "    right_label=\"NAIP Imagery\",\n",
        "    left_args={\"style\": {\"color\": \"red\"}, \"fillOpacity\": 0.4},\n",
        "    basemap=naip_url,\n",
        ")"
      ]
    },
    {
      "cell_type": "markdown",
      "metadata": {
        "id": "vU-CEaMC9oru"
      },
      "source": [
        "## Hybrid regularization"
      ]
    },
    {
      "cell_type": "code",
      "execution_count": null,
      "metadata": {
        "id": "v8MEkxk69oru"
      },
      "outputs": [],
      "source": [
        "gdf_hybrid = geoai.hybrid_regularization(gdf)"
      ]
    },
    {
      "cell_type": "code",
      "execution_count": null,
      "metadata": {
        "id": "X38zPCz59oru"
      },
      "outputs": [],
      "source": [
        "geoai.view_vector_interactive(\n",
        "    gdf_hybrid, style_kwds={\"color\": \"green\", \"fillOpacity\": 0.4}, tiles=naip_url\n",
        ")"
      ]
    },
    {
      "cell_type": "code",
      "execution_count": null,
      "metadata": {
        "id": "moieyYPI9oru"
      },
      "outputs": [],
      "source": [
        "geoai.create_split_map(\n",
        "    left_layer=gdf_regularized,\n",
        "    right_layer=naip_url,\n",
        "    left_label=\"Regularized Buildings\",\n",
        "    right_label=\"NAIP Imagery\",\n",
        "    left_args={\"style\": {\"color\": \"green\", \"fillOpacity\": 0.4}},\n",
        "    basemap=naip_url,\n",
        ")"
      ]
    },
    {
      "cell_type": "markdown",
      "metadata": {
        "id": "raccVPpE9oru"
      },
      "source": [
        "## Adaptive regularization"
      ]
    },
    {
      "cell_type": "code",
      "execution_count": null,
      "metadata": {
        "id": "0YznNZ4m9oru"
      },
      "outputs": [],
      "source": [
        "gdf_adaptive = geoai.adaptive_regularization(\n",
        "    building_polygons=gdf,\n",
        "    simplify_tolerance=0.5,\n",
        "    area_threshold=0.9,\n",
        "    preserve_shape=True,\n",
        ")"
      ]
    },
    {
      "cell_type": "code",
      "execution_count": null,
      "metadata": {
        "id": "jPywxgyO9orv"
      },
      "outputs": [],
      "source": [
        "geoai.view_vector_interactive(\n",
        "    gdf_adaptive, style_kwds={\"color\": \"yellow\", \"fillOpacity\": 0.4}, tiles=naip_url\n",
        ")"
      ]
    },
    {
      "cell_type": "code",
      "execution_count": null,
      "metadata": {
        "id": "NFT3yT1t9orv"
      },
      "outputs": [],
      "source": [
        "geoai.create_split_map(\n",
        "    left_layer=gdf_adaptive,\n",
        "    right_layer=naip_url,\n",
        "    left_label=\"Adaptive Regularization Buildings\",\n",
        "    right_label=\"NAIP Imagery\",\n",
        "    left_args={\"style\": {\"color\": \"yellow\", \"fillOpacity\": 0.4}},\n",
        "    basemap=naip_url,\n",
        ")"
      ]
    },
    {
      "cell_type": "markdown",
      "metadata": {
        "id": "G8cK9azD9orv"
      },
      "source": [
        "## Compare regularization methods"
      ]
    },
    {
      "cell_type": "code",
      "execution_count": null,
      "metadata": {
        "id": "6WWZjulv9orv"
      },
      "outputs": [],
      "source": [
        "import leafmap.foliumap as leafmap"
      ]
    },
    {
      "cell_type": "code",
      "execution_count": null,
      "metadata": {
        "id": "W8Zltnpo9orv"
      },
      "outputs": [],
      "source": [
        "m = leafmap.Map()\n",
        "m.add_basemap(\"SATELLITE\")\n",
        "m.add_gdf(gdf, layer_name=\"Original\")\n",
        "m.add_gdf(\n",
        "    gdf_regularized, style={\"color\": \"red\", \"fillOpacity\": 0}, layer_name=\"Regularized\"\n",
        ")\n",
        "m.add_gdf(gdf_hybrid, style={\"color\": \"green\", \"fillOpacity\": 0}, layer_name=\"Hybrid\")\n",
        "m.add_gdf(\n",
        "    gdf_adaptive, style={\"color\": \"yellow\", \"fillOpacity\": 0}, layer_name=\"Adaptive\"\n",
        ")\n",
        "legend = {\n",
        "    \"Original\": \"blue\",\n",
        "    \"Regularized\": \"red\",\n",
        "    \"Hybrid\": \"green\",\n",
        "    \"Adaptive\": \"yellow\",\n",
        "}\n",
        "m.add_legend(title=\"Building Footprints\", legend_dict=legend)\n",
        "m"
      ]
    },
    {
      "cell_type": "code",
      "metadata": {
        "id": "cb152c27"
      },
      "source": [
        "# %pip install geoai-py"
      ],
      "execution_count": 4,
      "outputs": []
    },
    {
      "cell_type": "code",
      "metadata": {
        "colab": {
          "base_uri": "https://localhost:8080/",
          "height": 314
        },
        "id": "1644b1e2",
        "outputId": "906e499b-8788-4d28-8c1e-495430c9ce10"
      },
      "source": [
        "import geoai"
      ],
      "execution_count": 5,
      "outputs": [
        {
          "output_type": "error",
          "ename": "ModuleNotFoundError",
          "evalue": "No module named 'geoai'",
          "traceback": [
            "\u001b[0;31m---------------------------------------------------------------------------\u001b[0m",
            "\u001b[0;31mModuleNotFoundError\u001b[0m                       Traceback (most recent call last)",
            "\u001b[0;32m/tmp/ipython-input-5-76862300.py\u001b[0m in \u001b[0;36m<cell line: 0>\u001b[0;34m()\u001b[0m\n\u001b[0;32m----> 1\u001b[0;31m \u001b[0;32mimport\u001b[0m \u001b[0mgeoai\u001b[0m\u001b[0;34m\u001b[0m\u001b[0;34m\u001b[0m\u001b[0m\n\u001b[0m",
            "\u001b[0;31mModuleNotFoundError\u001b[0m: No module named 'geoai'",
            "",
            "\u001b[0;31m---------------------------------------------------------------------------\u001b[0;32m\nNOTE: If your import is failing due to a missing package, you can\nmanually install dependencies using either !pip or !apt.\n\nTo view examples of installing some common dependencies, click the\n\"Open Examples\" button below.\n\u001b[0;31m---------------------------------------------------------------------------\u001b[0m\n"
          ],
          "errorDetails": {
            "actions": [
              {
                "action": "open_url",
                "actionText": "Open Examples",
                "url": "/notebooks/snippets/importing_libraries.ipynb"
              }
            ]
          }
        }
      ]
    }
  ],
  "metadata": {
    "kernelspec": {
      "display_name": "geo",
      "language": "python",
      "name": "python3"
    },
    "language_info": {
      "codemirror_mode": {
        "name": "ipython",
        "version": 3
      },
      "file_extension": ".py",
      "mimetype": "text/x-python",
      "name": "python",
      "nbconvert_exporter": "python",
      "pygments_lexer": "ipython3",
      "version": "3.12.2"
    },
    "colab": {
      "provenance": [],
      "toc_visible": true
    }
  },
  "nbformat": 4,
  "nbformat_minor": 0
}